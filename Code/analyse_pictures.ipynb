{
 "cells": [
  {
   "cell_type": "markdown",
   "id": "5eb66798-a85d-46d9-9d2c-878a05063099",
   "metadata": {},
   "source": [
    "# Analyse a picture for project move color prototype"
   ]
  },
  {
   "cell_type": "markdown",
   "id": "578f8f07-282f-40bf-b1ce-a54813220df5",
   "metadata": {},
   "source": [
    "## Import and variables"
   ]
  },
  {
   "cell_type": "code",
   "execution_count": null,
   "id": "d10a4fa7-1be1-4128-9246-0bcf934d455a",
   "metadata": {},
   "outputs": [],
   "source": [
    "import cv2\n",
    "import matplotlib.pyplot as plt\n",
    "import numpy as np\n",
    "%matplotlib inline"
   ]
  },
  {
   "cell_type": "code",
   "execution_count": null,
   "id": "353ef512-88db-49a2-b521-58e0942fbf7c",
   "metadata": {},
   "outputs": [],
   "source": [
    "DIST = 2\n",
    "BORDER_OF_PREDICTION = 0.5"
   ]
  },
  {
   "cell_type": "code",
   "execution_count": null,
   "id": "a61dd268-541c-4081-8ddf-f52961a37b49",
   "metadata": {},
   "outputs": [],
   "source": [
    "PLT_RED = 'r+'\n",
    "PLT_BLUE = 'bo'\n",
    "PLT_GREEN = 'g.'"
   ]
  },
  {
   "cell_type": "markdown",
   "id": "b03379b0-430a-4b0b-8265-bef7988c76eb",
   "metadata": {},
   "source": [
    "## Functions"
   ]
  },
  {
   "cell_type": "code",
   "execution_count": null,
   "id": "4550c99f-06f0-4237-9071-6d5de64a3cba",
   "metadata": {
    "jp-MarkdownHeadingCollapsed": true
   },
   "outputs": [],
   "source": [
    "def prediction(combined_squared_error):\n",
    "    return (1 / (1 + combined_squared_error))"
   ]
  },
  {
   "cell_type": "code",
   "execution_count": null,
   "id": "6a34dc5f-745a-49e6-b13a-dec83e8b1fac",
   "metadata": {},
   "outputs": [],
   "source": [
    "def error_function(hsv_pixel):\n",
    "    # 1/ ( 1 + combined_error^2)\n",
    "    # hsv_pixel = cv2.cvtColor(pixel, cv2.COLOR_BGR2HSV)\n",
    "\n",
    "    error_hue = hue - hsv_pixel[0, 0, 0]\n",
    "    error_sat = sat - hsv_pixel[0, 0, 1]\n",
    "    error_val = val - hsv_pixel[0, 0, 2]\n",
    "\n",
    "    combined_squared_error = (\n",
    "        error_hue**2 * factor_hue\n",
    "        + error_sat**2 * factor_sat \n",
    "        + error_val**2 * factor_val\n",
    "    )\n",
    "    \n",
    "    predicted_value = prediction(combined_squared_error)\n",
    "    return combined_squared_error, predicted_value"
   ]
  },
  {
   "cell_type": "code",
   "execution_count": null,
   "id": "58f53a4d-20bf-4b80-b3ce-2b0f0481b434",
   "metadata": {},
   "outputs": [],
   "source": [
    "def draw_pixel_value(event, x, y, flags, param):\n",
    "    global clicked\n",
    "    global marked_good_pixels\n",
    "    global marked_bad_pixels\n",
    "\n",
    "    # if event != 0:\n",
    "    #     print(f'event:{event}')\n",
    "\n",
    "    if event == cv2.EVENT_LBUTTONDOWN and not clicked:\n",
    "        clicked = True\n",
    "        pixel = image[y, x]\n",
    "        pixel = np.uint8([[pixel]])\n",
    "        hsv_pixel = cv2.cvtColor(pixel, cv2.COLOR_BGR2HSV)\n",
    "        \n",
    "        # print(f'draw_pixel_value/pixel:{pixel}')\n",
    "        # print(f'draw_pixel_value/hsv_pixel:{hsv_pixel}')\n",
    "        squared_error_and_prediction = error_function(hsv_pixel)\n",
    "        #print(predicted_value)\n",
    "        draw_function((x,y), squared_error_and_prediction, hsv_pixel)\n",
    "        marked_good_pixels.append(hsv_pixel[0, 0, :])\n",
    "        \n",
    "    elif event == cv2.EVENT_RBUTTONDOWN and not clicked:\n",
    "        clicked = True\n",
    "        pixel = image[y, x]\n",
    "        pixel = np.uint8([[pixel]])\n",
    "        hsv_pixel = cv2.cvtColor(pixel, cv2.COLOR_BGR2HSV)\n",
    "        \n",
    "        # print(f'draw_pixel_value/pixel:{pixel}')\n",
    "        # print(f'draw_pixel_value/hsv_pixel:{hsv_pixel}')\n",
    "        squared_error_and_prediction = error_function(hsv_pixel)\n",
    "        #print(predicted_value)\n",
    "        draw_function((x,y), squared_error_and_prediction, hsv_pixel)\n",
    "        marked_bad_pixels.append(hsv_pixel[0 , 0, :])\n",
    "        \n",
    "    elif event == cv2.EVENT_LBUTTONUP or cv2.EVENT_RBUTTONUP:\n",
    "        clicked = False"
   ]
  },
  {
   "cell_type": "code",
   "execution_count": null,
   "id": "9552b7bc-aa42-43c0-8e06-8ef8b187c73d",
   "metadata": {},
   "outputs": [],
   "source": [
    "def draw_function(point_in_image, calculated_point, hsv_pixel):\n",
    "    rgb_image = cv2.cvtColor(image, cv2.COLOR_BGR2RGB)\n",
    "    circle_size = rgb_image.shape[0] * 10 // 640\n",
    "    text_size = rgb_image.shape[0] * 4 // 640\n",
    "\n",
    "    cv2.circle(rgb_image, point_in_image, 2*circle_size, [0,0,0], thickness=-1)\n",
    "    cv2.circle(rgb_image, point_in_image, circle_size, [255,255,255], thickness=-1)\n",
    "    cv2.putText(rgb_image, f'{point_in_image}', (10, rgb_image.shape[0]-10), cv2.FONT_HERSHEY_SIMPLEX, text_size, (255,255,255))\n",
    "    \n",
    "    x_min = np.min([calculated_point[0]-2, -10])\n",
    "    x_max = np.max([calculated_point[0]+2, 10])\n",
    "    x_step = np.round((x_max - x_min) / 100, decimals=2)\n",
    "    #x_func = np.arange(0, 10, 0.05)\n",
    "    x_func = np.arange(x_min, x_max, x_step)\n",
    "    y_func = list(map(prediction, x_func**2))\n",
    "    #print(x_func)\n",
    "    #print(y_func)\n",
    "\n",
    "    fig, axes = plt.subplot_mosaic([\n",
    "        ['image', 'graph'],\n",
    "        ['pixel', 'graph']\n",
    "    ])\n",
    "    \n",
    "    fig.set_dpi(200)\n",
    "    #fig.set_size_inches(10,10)\n",
    "    \n",
    "    axes['image'].imshow(rgb_image)\n",
    "    \n",
    "    axes['graph'].plot(x_func, y_func)\n",
    "    axes['graph'].plot([x_min, calculated_point[0], calculated_point[0]], [calculated_point[1], calculated_point[1], 0], 'r--')\n",
    "    axes['graph'].plot(calculated_point[0], calculated_point[1], 'ro')\n",
    "\n",
    "    pixel = cv2.cvtColor(hsv_pixel, cv2.COLOR_HSV2RGB)\n",
    "    pixel_example = np.zeros((100, 100, 3), dtype=np.uint8)\n",
    "    pixel_example[:, :, 0] = pixel[0, 0, 0]\n",
    "    pixel_example[:, :, 1] = pixel[0, 0, 1]\n",
    "    pixel_example[:, :, 2] = pixel[0, 0, 2]\n",
    "\n",
    "    axes['pixel'].imshow(pixel_example)\n",
    "    \n",
    "    #plt.figtext(.75, .8, f'result: {calculated_point[1]}')\n",
    "    fig.suptitle(f'HSV:{hsv_pixel[0, 0, :]} result: {calculated_point[1]:.5f}')\n",
    "    plt.show()\n",
    "    \n",
    "    #print(calculated_point)"
   ]
  },
  {
   "cell_type": "code",
   "execution_count": null,
   "id": "eb9e87cb-24ec-4ff3-930e-ac3443c705b7",
   "metadata": {},
   "outputs": [],
   "source": [
    "def click_and_evaluate_pixel(image):\n",
    "    title = 'click at pixel'\n",
    "\n",
    "    cv2.namedWindow(title)\n",
    "    cv2.setMouseCallback(title, draw_pixel_value)\n",
    "    \n",
    "    while True:\n",
    "        cv2.imshow(title, image)\n",
    "        if cv2.waitKey(30) == 27:\n",
    "            break\n",
    "    \n",
    "    cv2.destroyAllWindows()"
   ]
  },
  {
   "cell_type": "markdown",
   "id": "549eb3f8-d33e-4a1f-9151-e562f34c1e05",
   "metadata": {},
   "source": [
    "## Load images and settings"
   ]
  },
  {
   "cell_type": "code",
   "execution_count": null,
   "id": "031e5dbf-55da-4262-88fa-d36e71008940",
   "metadata": {},
   "outputs": [],
   "source": [
    "image_filename = 'debug_image.jpg'"
   ]
  },
  {
   "cell_type": "code",
   "execution_count": null,
   "id": "a4299ff7-0ed7-4451-897c-a9b6b2a6ad5d",
   "metadata": {},
   "outputs": [],
   "source": [
    "image = cv2.imread(image_filename)\n",
    "plt.imshow(image)"
   ]
  },
  {
   "cell_type": "code",
   "execution_count": null,
   "id": "2ef7573d-53d6-4bac-9875-0a517b08552f",
   "metadata": {},
   "outputs": [],
   "source": [
    "settings_filename = 'debug_hsv.txt'\n",
    "settings = [''] * 6\n",
    "\n",
    "with open(settings_filename, 'r') as fid:\n",
    "    for i in range(len(settings)):\n",
    "        settings[i] = fid.readline().strip()"
   ]
  },
  {
   "cell_type": "code",
   "execution_count": null,
   "id": "47a57f04-6108-4c69-99e7-d2382f9b959e",
   "metadata": {},
   "outputs": [],
   "source": [
    "hue = float(settings[0])\n",
    "sat = float(settings[1])\n",
    "val = float(settings[2])\n",
    "factor_hue = float(settings[3])\n",
    "factor_sat = float(settings[4])\n",
    "factor_val = float(settings[5])"
   ]
  },
  {
   "cell_type": "code",
   "execution_count": null,
   "id": "3a901885-dbdc-452c-a47e-89edd72f0731",
   "metadata": {},
   "outputs": [],
   "source": [
    "print(hue)\n",
    "print(sat)\n",
    "print(val)\n",
    "print(factor_hue)\n",
    "print(factor_sat)\n",
    "print(factor_val)"
   ]
  },
  {
   "cell_type": "markdown",
   "id": "b627abcd-f57f-4856-a2db-d70fa87fa774",
   "metadata": {},
   "source": [
    "## Image validation"
   ]
  },
  {
   "cell_type": "code",
   "execution_count": null,
   "id": "c3b9047b-1ad1-4fff-b722-1bc0db49e618",
   "metadata": {},
   "outputs": [],
   "source": [
    "rgb_image = cv2.cvtColor(image, cv2.COLOR_BGR2RGB)\n",
    "plt.imshow(rgb_image)"
   ]
  },
  {
   "cell_type": "code",
   "execution_count": null,
   "id": "0317c5ba-a961-43e6-a2a1-addd4c2ff64b",
   "metadata": {},
   "outputs": [],
   "source": [
    "hsv_image = cv2.cvtColor(image, cv2.COLOR_BGR2HSV)"
   ]
  },
  {
   "cell_type": "code",
   "execution_count": null,
   "id": "c4e01da6-aba0-4c56-9b48-254c0e2e2287",
   "metadata": {},
   "outputs": [],
   "source": [
    "for col in range(0, hsv_image.shape[0], DIST):\n",
    "    for row in range(0, hsv_image.shape[1], DIST):\n",
    "        hsv_pixel = np.uint8([[hsv_image[col, row, :]]])\n",
    "        #print(pixel)\n",
    "        squared_error_and_prediction = error_function(hsv_pixel)\n",
    "        if squared_error_and_prediction[1] >= BORDER_OF_PREDICTION:\n",
    "            rgb_image[col, row, :] = (0, 0, 255)\n",
    "        else:\n",
    "            rgb_image[col, row, :] = (255, 0, 0)"
   ]
  },
  {
   "cell_type": "code",
   "execution_count": null,
   "id": "19e66eed-69f1-4894-bb58-3f9917d58584",
   "metadata": {},
   "outputs": [],
   "source": [
    "plt.imshow(rgb_image)"
   ]
  },
  {
   "cell_type": "code",
   "execution_count": null,
   "id": "f98b2aca-9049-42c5-ad86-54387ecc8f6c",
   "metadata": {},
   "outputs": [],
   "source": [
    "colored_bgr_image = cv2.cvtColor(rgb_image, cv2.COLOR_RGB2BGR)"
   ]
  },
  {
   "cell_type": "code",
   "execution_count": null,
   "id": "6ecc0ccd-ceed-4cfc-b9fb-d9e2a7c45e5a",
   "metadata": {},
   "outputs": [],
   "source": [
    "cv2.imshow('calibration result', colored_bgr_image)\n",
    "cv2.waitKey(0)\n",
    "cv2.destroyAllWindows()"
   ]
  },
  {
   "cell_type": "code",
   "execution_count": null,
   "id": "45cbd472-a4ad-4108-a74f-b6426f534f9a",
   "metadata": {},
   "outputs": [],
   "source": [
    "cv2.destroyAllWindows()"
   ]
  },
  {
   "cell_type": "markdown",
   "id": "073be13f-fdc3-4b12-8810-cda3e1c86b51",
   "metadata": {},
   "source": [
    "## Histograms and plots"
   ]
  },
  {
   "cell_type": "code",
   "execution_count": null,
   "id": "8bc968a3-70fa-4c95-9125-43561914989d",
   "metadata": {},
   "outputs": [],
   "source": [
    "def get_roi(image, description=''):\n",
    "    x, y, w, h = cv2.selectROI(description, image, False, False)\n",
    "    cv2.destroyAllWindows()\n",
    "    \n",
    "    print(x, y, w, h)\n",
    "    \n",
    "    x_lower = x\n",
    "    x_upper = x + w\n",
    "    y_lower = y\n",
    "    y_upper = y + h\n",
    "    \n",
    "    roi = image[y_lower:y_upper, x_lower:x_upper]\n",
    "    roi = cv2.cvtColor(roi, cv2.COLOR_BGR2RGB)\n",
    "    plt.imshow(roi)\n",
    "    return x_lower, x_upper, y_lower, y_upper"
   ]
  },
  {
   "cell_type": "code",
   "execution_count": null,
   "id": "66cd27ca-4162-4fe9-bdae-ff1036accb1d",
   "metadata": {},
   "outputs": [],
   "source": [
    "x_lower, x_upper, y_lower, y_upper = get_roi(image, 'only positives')"
   ]
  },
  {
   "cell_type": "code",
   "execution_count": null,
   "id": "b59ed044-0898-4cde-bd30-95832b3e362f",
   "metadata": {},
   "outputs": [],
   "source": [
    "neg_x_lower, neg_x_upper, neg_y_lower, neg_y_upper = get_roi(image, 'all positives')"
   ]
  },
  {
   "cell_type": "code",
   "execution_count": null,
   "id": "8f0bbbcf-7503-4625-a363-17a3ae3bc3ab",
   "metadata": {},
   "outputs": [],
   "source": [
    "hsv_image = cv2.cvtColor(image, cv2.COLOR_BGR2HSV)"
   ]
  },
  {
   "cell_type": "code",
   "execution_count": null,
   "id": "c826c281-c38c-4b85-b611-a2c3ff6179e0",
   "metadata": {},
   "outputs": [],
   "source": [
    "good_values = []\n",
    "bad_values = []\n",
    "for col in range(0, hsv_image.shape[0], DIST):\n",
    "    for row in range(0, hsv_image.shape[1], DIST):\n",
    "        if y_lower < col < y_upper:\n",
    "            if x_lower < row < x_upper:\n",
    "                good_values.append(hsv_image[col, row, :])\n",
    "        if neg_y_lower > col or col > neg_y_upper:\n",
    "            bad_values.append(hsv_image[col, row, :])\n",
    "        elif neg_x_lower > row or row > neg_x_upper:\n",
    "            bad_values.append(hsv_image[col, row, :])"
   ]
  },
  {
   "cell_type": "code",
   "execution_count": null,
   "id": "ede4c1a0-0275-4050-9317-f006c6fc7131",
   "metadata": {},
   "outputs": [],
   "source": [
    "good_values = np.array(good_values)"
   ]
  },
  {
   "cell_type": "code",
   "execution_count": null,
   "id": "477124bb-fbb2-40fe-8cc2-c8f7867c1f9c",
   "metadata": {},
   "outputs": [],
   "source": [
    "good_values.shape"
   ]
  },
  {
   "cell_type": "code",
   "execution_count": null,
   "id": "65c0765f-3c1c-4b7d-a712-3a7c6a3790e9",
   "metadata": {},
   "outputs": [],
   "source": [
    "bad_values = np.array(bad_values)"
   ]
  },
  {
   "cell_type": "code",
   "execution_count": null,
   "id": "7efd2f37-8952-49c3-8174-7cdf7963e9a2",
   "metadata": {},
   "outputs": [],
   "source": [
    "bad_values.shape"
   ]
  },
  {
   "cell_type": "code",
   "execution_count": null,
   "id": "5c90ec23-b580-4faa-bdfa-65de3f4743c8",
   "metadata": {},
   "outputs": [],
   "source": [
    "good_hue = good_values[:, 0]\n",
    "good_sat = good_values[:, 1]\n",
    "good_val = good_values[:, 2]\n",
    "\n",
    "bad_hue = bad_values[:, 0]\n",
    "bad_sat = bad_values[:, 1]\n",
    "bad_val = bad_values[:, 2]\n",
    "\n",
    "fig, axes = plt.subplots(1, 3)\n",
    "fig.suptitle('good pixels')\n",
    "_ = axes[0].hist(good_hue, bins=36, range=(0, 180))\n",
    "_ = axes[0].set_xlabel('hue')\n",
    "_ = axes[1].hist(good_sat, bins=51, range=(0, 255))\n",
    "_ = axes[1].set_xlabel('sat')\n",
    "_ = axes[2].hist(good_val, bins=51, range=(0, 255))\n",
    "_ = axes[2].set_xlabel('val')\n",
    "\n",
    "fig, axes = plt.subplots(1, 3)\n",
    "fig.suptitle('bad values')\n",
    "_ = axes[0].hist(bad_hue, bins=36, range=(0, 180), color='red')\n",
    "_ = axes[0].set_xlabel('hue')\n",
    "_ = axes[1].hist(bad_sat, bins=51, range=(0, 255), color='red')\n",
    "_ = axes[1].set_xlabel('sat')\n",
    "_ = axes[2].hist(bad_val, bins=51, range=(0, 255), color='red')\n",
    "_ = axes[2].set_xlabel('val')"
   ]
  },
  {
   "cell_type": "code",
   "execution_count": null,
   "id": "717bbf48-eaaa-427c-9cc3-d221e67bd19b",
   "metadata": {},
   "outputs": [],
   "source": [
    "nbr_entries_one_direction = 400\n",
    "range_size = nbr_entries_one_direction * nbr_entries_one_direction\n",
    "pos_hue_range = np.zeros((range_size))\n",
    "pos_sat_range = np.zeros((range_size))\n",
    "pos_val_range = np.zeros((range_size))\n",
    "\n",
    "radius = 0.5\n",
    "err2 = (1 - radius) / radius"
   ]
  },
  {
   "cell_type": "code",
   "execution_count": null,
   "id": "97f4a9c0-5497-4bb5-b1d9-78b9119e1ffd",
   "metadata": {},
   "outputs": [],
   "source": [
    "offset = 10\n",
    "\n",
    "min_zoom_plot_hue = min(good_hue) - offset\n",
    "max_zoom_plot_hue = max(good_hue) + offset\n",
    "min_zoom_plot_sat = min(good_sat) - offset\n",
    "max_zoom_plot_sat = max(good_sat) + offset\n",
    "min_zoom_plot_val = min(good_val) - offset\n",
    "max_zoom_plot_val = max(good_val) + offset"
   ]
  },
  {
   "cell_type": "code",
   "execution_count": null,
   "id": "f30eb251-cf24-4437-aa3f-4b5cb553cf1a",
   "metadata": {},
   "outputs": [],
   "source": [
    "fig = plt.figure(layout='constrained')\n",
    "fig.suptitle('position comparison')\n",
    "axes = fig.subplot_mosaic([\n",
    "        ['hue_and_sat', 'val_and_sat'],\n",
    "        ['hue_and_val', 'none']\n",
    "    ], \n",
    "    empty_sentinel='none'\n",
    ")\n",
    "\n",
    "_ = axes['hue_and_sat'].plot(bad_hue, bad_sat, PLT_RED)\n",
    "_ = axes['hue_and_sat'].plot(good_hue, good_sat, PLT_BLUE)\n",
    "_ = axes['hue_and_sat'].grid()\n",
    "_ = axes['hue_and_sat'].set_xlabel('hue')\n",
    "_ = axes['hue_and_sat'].set_ylabel('sat')\n",
    "_ = axes['val_and_sat'].plot(bad_val, bad_sat, PLT_RED)\n",
    "_ = axes['val_and_sat'].plot(good_val, good_sat, PLT_BLUE)\n",
    "_ = axes['val_and_sat'].grid()\n",
    "_ = axes['val_and_sat'].set_xlabel('val')\n",
    "_ = axes['val_and_sat'].set_ylabel('sat')\n",
    "_ = axes['hue_and_val'].plot(bad_hue, bad_val, PLT_RED)\n",
    "_ = axes['hue_and_val'].plot(good_hue, good_val, PLT_BLUE)\n",
    "_ = axes['hue_and_val'].grid()\n",
    "_ = axes['hue_and_val'].set_xlabel('hue')\n",
    "_ = axes['hue_and_val'].set_ylabel('val')\n",
    "\n",
    "fig = plt.figure(layout='constrained')\n",
    "fig.suptitle('zoomed comparison')\n",
    "\n",
    "axes = fig.subplot_mosaic([\n",
    "        ['hue_and_sat', 'val_and_sat'],\n",
    "        ['hue_and_val', 'none']\n",
    "    ], \n",
    "    empty_sentinel='none'\n",
    ")\n",
    "\n",
    "_ = axes['hue_and_sat'].plot(bad_hue, bad_sat, PLT_RED)\n",
    "_ = axes['hue_and_sat'].plot(good_hue, good_sat, PLT_BLUE)\n",
    "_ = axes['hue_and_sat'].grid()\n",
    "_ = axes['hue_and_sat'].set_xlabel('hue')\n",
    "_ = axes['hue_and_sat'].set_ylabel('sat')\n",
    "_ = axes['hue_and_sat'].set_xlim((min_zoom_plot_hue, max_zoom_plot_hue))\n",
    "_ = axes['hue_and_sat'].set_ylim((min_zoom_plot_sat, max_zoom_plot_sat))\n",
    "                                 \n",
    "_ = axes['val_and_sat'].plot(bad_val, bad_sat, PLT_RED)\n",
    "_ = axes['val_and_sat'].plot(good_val, good_sat, PLT_BLUE)\n",
    "_ = axes['val_and_sat'].grid()\n",
    "_ = axes['val_and_sat'].set_xlabel('val')\n",
    "_ = axes['val_and_sat'].set_ylabel('sat')\n",
    "_ = axes['val_and_sat'].set_xlim((min_zoom_plot_val, max_zoom_plot_val))\n",
    "_ = axes['val_and_sat'].set_ylim((min_zoom_plot_sat, max_zoom_plot_sat))\n",
    "\n",
    "_ = axes['hue_and_val'].plot(bad_hue, bad_val, PLT_RED)\n",
    "_ = axes['hue_and_val'].plot(good_hue, good_val, PLT_BLUE)\n",
    "_ = axes['hue_and_val'].grid()\n",
    "_ = axes['hue_and_val'].set_xlabel('hue')\n",
    "_ = axes['hue_and_val'].set_ylabel('val')\n",
    "_ = axes['hue_and_val'].set_xlim((min_zoom_plot_hue, max_zoom_plot_hue))\n",
    "_ = axes['hue_and_val'].set_ylim((min_zoom_plot_val, max_zoom_plot_val))\n",
    "\n",
    "fig = plt.figure(layout='constrained')\n",
    "fig.suptitle('zoomed comparison without positives')\n",
    "\n",
    "axes = fig.subplot_mosaic([\n",
    "        ['hue_and_sat', 'val_and_sat'],\n",
    "        ['hue_and_val', 'none']\n",
    "    ], \n",
    "    empty_sentinel='none'\n",
    ")\n",
    "\n",
    "_ = axes['hue_and_sat'].plot(bad_hue, bad_sat, PLT_RED)\n",
    "_ = axes['hue_and_sat'].grid()\n",
    "_ = axes['hue_and_sat'].set_xlabel('hue')\n",
    "_ = axes['hue_and_sat'].set_ylabel('sat')\n",
    "_ = axes['hue_and_sat'].set_xlim((min_zoom_plot_hue, max_zoom_plot_hue))\n",
    "_ = axes['hue_and_sat'].set_ylim((min_zoom_plot_sat, max_zoom_plot_sat))\n",
    "                                 \n",
    "_ = axes['val_and_sat'].plot(bad_val, bad_sat, PLT_RED)\n",
    "_ = axes['val_and_sat'].grid()\n",
    "_ = axes['val_and_sat'].set_xlabel('val')\n",
    "_ = axes['val_and_sat'].set_ylabel('sat')\n",
    "_ = axes['val_and_sat'].set_xlim((min_zoom_plot_val, max_zoom_plot_val))\n",
    "_ = axes['val_and_sat'].set_ylim((min_zoom_plot_sat, max_zoom_plot_sat))\n",
    "\n",
    "_ = axes['hue_and_val'].plot(bad_hue, bad_val, PLT_RED)\n",
    "_ = axes['hue_and_val'].grid()\n",
    "_ = axes['hue_and_val'].set_xlabel('hue')\n",
    "_ = axes['hue_and_val'].set_ylabel('val')\n",
    "_ = axes['hue_and_val'].set_xlim((min_zoom_plot_hue, max_zoom_plot_hue))\n",
    "_ = axes['hue_and_val'].set_ylim((min_zoom_plot_val, max_zoom_plot_val))"
   ]
  },
  {
   "cell_type": "markdown",
   "id": "40e99605-a6c7-405e-80c9-edc758560e3f",
   "metadata": {},
   "source": [
    "## Click and evaluate"
   ]
  },
  {
   "cell_type": "code",
   "execution_count": null,
   "id": "0482db20-b025-41fa-a736-ed6e239a4c3f",
   "metadata": {},
   "outputs": [],
   "source": [
    "settings"
   ]
  },
  {
   "cell_type": "code",
   "execution_count": null,
   "id": "f1049de2-c61b-49e1-ba82-22a682526f18",
   "metadata": {},
   "outputs": [],
   "source": [
    "# optional\n",
    "hue = float(settings[0])\n",
    "sat = float(settings[1])\n",
    "val = float(settings[2])\n",
    "factor_hue = float(0)\n",
    "factor_sat = float(0)\n",
    "factor_val = float(settings[5])"
   ]
  },
  {
   "cell_type": "code",
   "execution_count": null,
   "id": "9eab0ed4-94de-40ea-bb2a-bad615fb862d",
   "metadata": {},
   "outputs": [],
   "source": [
    "clicked = False\n",
    "marked_good_pixels = []\n",
    "marked_bad_pixels = []"
   ]
  },
  {
   "cell_type": "code",
   "execution_count": null,
   "id": "adf9e943-ab03-4150-9283-20c676313349",
   "metadata": {},
   "outputs": [],
   "source": [
    "# left click good, right click bad\n",
    "click_and_evaluate_pixel(colored_bgr_image)"
   ]
  },
  {
   "cell_type": "code",
   "execution_count": null,
   "id": "ab3c618b-6889-4c73-b4a9-52894be10980",
   "metadata": {},
   "outputs": [],
   "source": [
    "marked_good_pixels = np.array(marked_good_pixels)\n",
    "marked_bad_pixels = np.array(marked_bad_pixels)"
   ]
  },
  {
   "cell_type": "code",
   "execution_count": null,
   "id": "6c826723-2c4f-48c5-9667-7694b9b556b1",
   "metadata": {},
   "outputs": [],
   "source": [
    "marked_good_pixels.shape"
   ]
  },
  {
   "cell_type": "code",
   "execution_count": null,
   "id": "50182be7-e1b3-4278-a3e0-214b1dee47fa",
   "metadata": {},
   "outputs": [],
   "source": [
    "marked_bad_pixels.shape"
   ]
  },
  {
   "cell_type": "code",
   "execution_count": null,
   "id": "e52b5e49-e222-4b94-927c-e2cb337dcb86",
   "metadata": {},
   "outputs": [],
   "source": [
    "single_example_size = 200"
   ]
  },
  {
   "cell_type": "code",
   "execution_count": null,
   "id": "9934e4c2-1973-469b-bb7c-2eae46e4b2c8",
   "metadata": {},
   "outputs": [],
   "source": [
    "if marked_good_pixels.size > 0:\n",
    "    good_color_example = np.ones((single_example_size, len(marked_good_pixels)*single_example_size, 3), dtype=np.uint8)\n",
    "    \n",
    "    for pos in range(len(marked_good_pixels)):\n",
    "        good_color_example[:, pos * single_example_size : (pos+1) * single_example_size, :] = good_color_example[0, pos * single_example_size, :] * marked_good_pixels[pos]\n",
    "        \n",
    "        if pos != 0:\n",
    "            good_color_example[:, pos * single_example_size, :] = 0\n",
    "        \n",
    "    good_color_example = cv2.cvtColor(good_color_example, cv2.COLOR_HSV2RGB)\n",
    "    \n",
    "    for pos in range(len(marked_good_pixels)):\n",
    "        prediction_ = error_function(np.uint8([[good_color_example[0, pos*single_example_size, :]]]))[1]\n",
    "        cv2.putText(good_color_example, f'{prediction_:0.4f}', (pos*single_example_size, good_color_example.shape[0]-5), cv2.FONT_HERSHEY_SIMPLEX, 1, (255, 255, 255))\n",
    "    \n",
    "    plt.title('good colors')\n",
    "    plt.imshow(good_color_example)\n",
    "    plt.show()\n",
    "\n",
    "if marked_bad_pixels.size > 0:\n",
    "\n",
    "    bad_color_example = np.ones((single_example_size, len(marked_bad_pixels)*single_example_size, 3), dtype=np.uint8)\n",
    "    \n",
    "    for pos in range(len(marked_bad_pixels)):\n",
    "        bad_color_example[:, pos * single_example_size : (pos+1) * single_example_size, :] = bad_color_example[0, pos * single_example_size, :] * marked_bad_pixels[pos]\n",
    "        if pos != 0:\n",
    "            bad_color_example[:, pos * single_example_size, :] = 0\n",
    "        \n",
    "    bad_color_example = cv2.cvtColor(bad_color_example, cv2.COLOR_HSV2RGB)\n",
    "\n",
    "    for pos in range(len(marked_bad_pixels)):\n",
    "        predicton_ = error_function(np.uint8([[bad_color_example[0, pos*single_example_size, :]]]))[1]\n",
    "        cv2.putText(bad_color_example, f'{prediction_:0.4f}', (pos*single_example_size, bad_color_example.shape[0]-5), cv2.FONT_HERSHEY_SIMPLEX, 1, (255, 255, 255))\n",
    "\n",
    "    plt.title('bad colors')\n",
    "    plt.imshow(bad_color_example)\n",
    "    plt.show()"
   ]
  },
  {
   "cell_type": "code",
   "execution_count": null,
   "id": "cee2be5d-ff9a-40f5-9016-fd6613ed9b48",
   "metadata": {},
   "outputs": [],
   "source": [
    "good_hue = marked_good_pixels[:, 0]\n",
    "good_sat = marked_good_pixels[:, 1]\n",
    "good_val = marked_good_pixels[:, 2]\n",
    "\n",
    "bad_hue = marked_bad_pixels[:, 0]\n",
    "bad_sat = marked_bad_pixels[:, 1]\n",
    "bad_val = marked_bad_pixels[:, 2]\n",
    "\n",
    "fig, axes = plt.subplots(1, 3)\n",
    "fig.suptitle('good pixels')\n",
    "_ = axes[0].hist(good_hue, bins=36, range=(0, 180))\n",
    "_ = axes[0].set_xlabel('hue')\n",
    "_ = axes[1].hist(good_sat, bins=51, range=(0, 255))\n",
    "_ = axes[1].set_xlabel('sat')\n",
    "_ = axes[2].hist(good_val, bins=51, range=(0, 255))\n",
    "_ = axes[2].set_xlabel('val')\n",
    "\n",
    "fig, axes = plt.subplots(1, 3)\n",
    "fig.suptitle('bad values')\n",
    "_ = axes[0].hist(bad_hue, bins=36, range=(0, 180), color='red')\n",
    "_ = axes[0].set_xlabel('hue')\n",
    "_ = axes[1].hist(bad_sat, bins=51, range=(0, 255), color='red')\n",
    "_ = axes[1].set_xlabel('sat')\n",
    "_ = axes[2].hist(bad_val, bins=51, range=(0, 255), color='red')\n",
    "_ = axes[2].set_xlabel('val')\n",
    "\n",
    "offset = 10\n",
    "\n",
    "min_zoom_plot_hue = min(good_hue) - offset\n",
    "max_zoom_plot_hue = max(good_hue) + offset\n",
    "min_zoom_plot_sat = min(good_sat) - offset\n",
    "max_zoom_plot_sat = max(good_sat) + offset\n",
    "min_zoom_plot_val = min(good_val) - offset\n",
    "max_zoom_plot_val = max(good_val) + offset\n",
    "\n",
    "fig = plt.figure(layout='constrained')\n",
    "fig.suptitle('position comparison')\n",
    "axes = fig.subplot_mosaic([\n",
    "        ['hue_and_sat', 'val_and_sat'],\n",
    "        ['hue_and_val', 'none']\n",
    "    ], \n",
    "    empty_sentinel='none'\n",
    ")\n",
    "\n",
    "_ = axes['hue_and_sat'].plot(bad_hue, bad_sat, PLT_RED)\n",
    "_ = axes['hue_and_sat'].plot(good_hue, good_sat, PLT_BLUE)\n",
    "_ = axes['hue_and_sat'].grid()\n",
    "_ = axes['hue_and_sat'].set_xlabel('hue')\n",
    "_ = axes['hue_and_sat'].set_ylabel('sat')\n",
    "_ = axes['val_and_sat'].plot(bad_val, bad_sat, PLT_RED)\n",
    "_ = axes['val_and_sat'].plot(good_val, good_sat, PLT_BLUE)\n",
    "_ = axes['val_and_sat'].grid()\n",
    "_ = axes['val_and_sat'].set_xlabel('val')PLT_GREEN\n",
    "_ = axes['val_and_sat'].set_ylabel('sat')\n",
    "_ = axes['hue_and_val'].plot(bad_hue, bad_val, PLT_RED)\n",
    "_ = axes['hue_and_val'].plot(good_hue, good_val, PLT_BLUE)\n",
    "_ = axes['hue_and_val'].grid()\n",
    "_ = axes['hue_and_val'].set_xlabel('hue')\n",
    "_ = axes['hue_and_val'].set_ylabel('val')\n",
    "\n",
    "fig = plt.figure(layout='constrained')\n",
    "fig.suptitle('zoomed comparison')\n",
    "\n",
    "axes = fig.subplot_mosaic([\n",
    "        ['hue_and_sat', 'val_and_sat'],\n",
    "        ['hue_and_val', 'none']\n",
    "    ], \n",
    "    empty_sentinel='none'\n",
    ")\n",
    "\n",
    "_ = axes['hue_and_sat'].plot(bad_hue, bad_sat, PLT_RED)\n",
    "_ = axes['hue_and_sat'].plot(good_hue, good_sat, PLT_BLUE)\n",
    "_ = axes['hue_and_sat'].grid()\n",
    "_ = axes['hue_and_sat'].set_xlabel('hue')\n",
    "_ = axes['hue_and_sat'].set_ylabel('sat')\n",
    "_ = axes['hue_and_sat'].set_xlim((min_zoom_plot_hue, max_zoom_plot_hue))\n",
    "_ = axes['hue_and_sat'].set_ylim((min_zoom_plot_sat, max_zoom_plot_sat))\n",
    "                                 \n",
    "_ = axes['val_and_sat'].plot(bad_val, bad_sat, PLT_RED)\n",
    "_ = axes['val_and_sat'].plot(good_val, good_sat, PLT_BLUE)\n",
    "_ = axes['val_and_sat'].grid()\n",
    "_ = axes['val_and_sat'].set_xlabel('val')\n",
    "_ = axes['val_and_sat'].set_ylabel('sat')\n",
    "_ = axes['val_and_sat'].set_xlim((min_zoom_plot_val, max_zoom_plot_val))\n",
    "_ = axes['val_and_sat'].set_ylim((min_zoom_plot_sat, max_zoom_plot_sat))\n",
    "\n",
    "_ = axes['hue_and_val'].plot(bad_hue, bad_val, PLT_RED)\n",
    "_ = axes['hue_and_val'].plot(good_hue, good_val, PLT_BLUE)\n",
    "_ = axes['hue_and_val'].grid()\n",
    "_ = axes['hue_and_val'].set_xlabel('hue')\n",
    "_ = axes['hue_and_val'].set_ylabel('val')\n",
    "_ = axes['hue_and_val'].set_xlim((min_zoom_plot_hue, max_zoom_plot_hue))\n",
    "_ = axes['hue_and_val'].set_ylim((min_zoom_plot_val, max_zoom_plot_val))\n",
    "\n",
    "fig = plt.figure(layout='constrained')\n",
    "fig.suptitle('zoomed comparison without positives')\n",
    "\n",
    "axes = fig.subplot_mosaic([\n",
    "        ['hue_and_sat', 'val_and_sat'],\n",
    "        ['hue_and_val', 'none']\n",
    "    ], \n",
    "    empty_sentinel='none'\n",
    ")\n",
    "\n",
    "_ = axes['hue_and_sat'].plot(bad_hue, bad_sat, PLT_RED)\n",
    "_ = axes['hue_and_sat'].grid()\n",
    "_ = axes['hue_and_sat'].set_xlabel('hue')\n",
    "_ = axes['hue_and_sat'].set_ylabel('sat')\n",
    "_ = axes['hue_and_sat'].set_xlim((min_zoom_plot_hue, max_zoom_plot_hue))\n",
    "_ = axes['hue_and_sat'].set_ylim((min_zoom_plot_sat, max_zoom_plot_sat))\n",
    "                                 \n",
    "_ = axes['val_and_sat'].plot(bad_val, bad_sat, PLT_RED)\n",
    "_ = axes['val_and_sat'].grid()\n",
    "_ = axes['val_and_sat'].set_xlabel('val')\n",
    "_ = axes['val_and_sat'].set_ylabel('sat')\n",
    "_ = axes['val_and_sat'].set_xlim((min_zoom_plot_val, max_zoom_plot_val))\n",
    "_ = axes['val_and_sat'].set_ylim((min_zoom_plot_sat, max_zoom_plot_sat))\n",
    "\n",
    "_ = axes['hue_and_val'].plot(bad_hue, bad_val, PLT_RED)\n",
    "_ = axes['hue_and_val'].grid()\n",
    "_ = axes['hue_and_val'].set_xlabel('hue')\n",
    "_ = axes['hue_and_val'].set_ylabel('val')\n",
    "_ = axes['hue_and_val'].set_xlim((min_zoom_plot_hue, max_zoom_plot_hue))\n",
    "_ = axes['hue_and_val'].set_ylim((min_zoom_plot_val, max_zoom_plot_val))"
   ]
  }
 ],
 "metadata": {
  "kernelspec": {
   "display_name": "Python 3 (ipykernel)",
   "language": "python",
   "name": "python3"
  },
  "language_info": {
   "codemirror_mode": {
    "name": "ipython",
    "version": 3
   },
   "file_extension": ".py",
   "mimetype": "text/x-python",
   "name": "python",
   "nbconvert_exporter": "python",
   "pygments_lexer": "ipython3",
   "version": "3.11.8"
  }
 },
 "nbformat": 4,
 "nbformat_minor": 5
}
